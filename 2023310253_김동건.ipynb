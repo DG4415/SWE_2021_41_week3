{
  "nbformat": 4,
  "nbformat_minor": 0,
  "metadata": {
    "colab": {
      "provenance": [],
      "gpuType": "T4"
    },
    "kernelspec": {
      "name": "python3",
      "display_name": "Python 3"
    },
    "language_info": {
      "name": "python"
    },
    "accelerator": "GPU"
  },
  "cells": [
    {
      "cell_type": "code",
      "execution_count": 30,
      "metadata": {
        "colab": {
          "base_uri": "https://localhost:8080/"
        },
        "id": "KrbQgY7_SJcN",
        "outputId": "c7401e90-ec8a-440e-f360-28e19d330c5c"
      },
      "outputs": [
        {
          "output_type": "stream",
          "name": "stdout",
          "text": [
            "19\n",
            "True\n"
          ]
        }
      ],
      "source": [
        "def isHappy(n):\n",
        "\n",
        "\n",
        "  array = []\n",
        "\n",
        "  while(n!=1):\n",
        "\n",
        "    sum = 0\n",
        "    array.append(n)\n",
        "\n",
        "\n",
        "    while n>0:\n",
        "        sum = sum + (n%10)**2\n",
        "        n = n//10\n",
        "\n",
        "    n = sum\n",
        "\n",
        "    if n in array :\n",
        "      return False\n",
        "\n",
        "\n",
        "\n",
        "\n",
        "  return True\n",
        "\n",
        "n = int(input())\n",
        "print(isHappy(n))"
      ]
    }
  ]
}